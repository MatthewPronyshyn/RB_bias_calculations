{
 "cells": [
  {
   "cell_type": "markdown",
   "metadata": {},
   "source": [
    "# Theoretical Bias Calculations"
   ]
  },
  {
   "cell_type": "markdown",
   "metadata": {},
   "source": [
    "## Helper functions"
   ]
  },
  {
   "cell_type": "code",
   "execution_count": 149,
   "metadata": {},
   "outputs": [],
   "source": [
    "import sympy as sp\n",
    "from scipy.stats import norm\n",
    "import numpy as np\n",
    "\n",
    "# Define a function to compute the posterior mean and variance\n",
    "def posterior_params(mu_0, tau_0, sigma, xbar, n):\n",
    "    tau_n_sq_inv = (1 / tau_0**2) + (n / sigma**2)\n",
    "    tau_n_sq = 1 / tau_n_sq_inv\n",
    "    tau_n = sp.sqrt(tau_n_sq)\n",
    "    mu_n = tau_n_sq * (mu_0 / tau_0**2 + n * xbar / sigma**2)\n",
    "    return mu_n, tau_n\n",
    "\n",
    "# Define a function to solve the relative belief against inequality\n",
    "def solve_rb_inequality(theta, mu_0, tau_0, sigma, n, bias):\n",
    "    xbar = sp.Symbol('xbar')\n",
    "    mu_n, tau_n = posterior_params(mu_0, tau_0, sigma, xbar, n)\n",
    "    ln_term = sp.log(tau_0**2 / tau_n**2)\n",
    "    lhs = ((theta - mu_0)**2) / tau_0**2 - ((theta - mu_n)**2) / tau_n**2 + ln_term\n",
    "    \n",
    "    if bias == \"against\": inequality = lhs <= 0\n",
    "    elif bias == \"in favor\": inequality = lhs > 0\n",
    "    else: raise ValueError(\"bias must be either 'against' or 'in favor'\")\n",
    "    solution = sp.solveset(inequality, xbar, domain=sp.S.Reals)\n",
    "    \n",
    "    # Process the solution to extract intervals\n",
    "    intervals = []\n",
    "    if isinstance(solution, sp.Union):\n",
    "        for interval in solution.args:\n",
    "            intervals.append((float(interval.start), float(interval.end)))\n",
    "    elif isinstance(solution, sp.Interval):\n",
    "        intervals.append((float(solution.start), float(solution.end)))\n",
    "    else:\n",
    "        # Handle other types of solutions if necessary\n",
    "        pass\n",
    "    \n",
    "    return intervals\n",
    "\n",
    "# Compute the expected value\n",
    "def compute_expectation(theta, sigma, n, intervals, delta = 0):\n",
    "    se = sigma / np.sqrt(n)\n",
    "    expectation = 0.0\n",
    "    for interval in intervals:\n",
    "        lower_bound, upper_bound = interval\n",
    "        if lower_bound == -np.inf:\n",
    "            P_lower = 0.0\n",
    "        else:\n",
    "            P_lower = norm.cdf(lower_bound, loc=theta + delta, scale=se)\n",
    "        if upper_bound == np.inf:\n",
    "            P_upper = 1.0\n",
    "        else:\n",
    "            P_upper = norm.cdf(upper_bound, loc=theta + delta, scale=se)\n",
    "        P_interval = P_upper - P_lower\n",
    "        expectation += P_interval\n",
    "    return expectation\n",
    "\n"
   ]
  },
  {
   "cell_type": "markdown",
   "metadata": {},
   "source": [
    "# Theoretical Hypothesis Bias Calculations"
   ]
  },
  {
   "cell_type": "markdown",
   "metadata": {},
   "source": [
    "## Hypothesis Bias Against"
   ]
  },
  {
   "cell_type": "code",
   "execution_count": 150,
   "metadata": {},
   "outputs": [],
   "source": [
    "def theoretical_hypothesis_bias_against(sigma, n, theta, mu_0 = 0, tau_0 = 1):\n",
    "    \"\"\"\n",
    "    Compute E_{p(x|theta)} [ I{RB(theta|x) <= 1} ].\n",
    "\n",
    "    Parameters:\n",
    "    mu_0 (float): Prior mean\n",
    "    tau_0 (float): Prior standard deviation (sqrt of prior variance)\n",
    "    sigma (float): Known standard deviation of the data (sqrt of known variance)\n",
    "    n (int): Sample size\n",
    "    theta (float): Hypothesized mean (theta)\n",
    "\n",
    "    Returns:\n",
    "    float: The expected value E_{p(x|theta)} [ I{RB(theta|x) <= 1} ]\n",
    "    \"\"\"\n",
    "     # Step 1: Solve the inequality and get the intervals\n",
    "    intervals = solve_rb_inequality(theta, mu_0, tau_0, sigma, n, bias=\"against\")\n",
    "\n",
    "    # Check if intervals are empty (i.e., inequality has no solution)\n",
    "    if not intervals:\n",
    "        return 0.0  # The expectation is zero if RB(theta|x) <= 1 never holds\n",
    "\n",
    "    # Step 2: Compute the expectation over the intervals\n",
    "    expectation = compute_expectation(theta, sigma, n, intervals)\n",
    "\n",
    "    return expectation"
   ]
  },
  {
   "cell_type": "markdown",
   "metadata": {},
   "source": [
    "### Example"
   ]
  },
  {
   "cell_type": "code",
   "execution_count": 151,
   "metadata": {},
   "outputs": [
    {
     "name": "stdout",
     "output_type": "stream",
     "text": [
      "Intervals where RB(theta|x) ≤ 1:\n",
      "[(-inf, 0.3814511177609897), (2.0185488822390103, inf)]\n",
      "Expected value E_{p(x|theta)} [ I{RB(theta|x) <= 1} ]:\n",
      "0.09469130763320749\n"
     ]
    }
   ],
   "source": [
    "# Example parameters\n",
    "hypothesis = 1.0        # Known theta\n",
    "mu_0 = 0.0         # Prior mean\n",
    "tau_0 = 1.0        # Prior standard deviation\n",
    "sigma = 1.0        # Likelihood standard deviation\n",
    "n = 5             # Sample size\n",
    "\n",
    "# Solve the inequality and get the intervals\n",
    "intervals = solve_rb_inequality(hypothesis, mu_0, tau_0, sigma, n, bias=\"against\")\n",
    "print(\"Intervals where RB(theta|x) ≤ 1:\")\n",
    "print(intervals)\n",
    "\n",
    "# Compute the bias\n",
    "bias = theoretical_hypothesis_bias_against(mu_0 = mu_0, tau_0 = tau_0, sigma = sigma, n = n, theta = hypothesis)\n",
    "print(\"Expected value E_{p(x|theta)} [ I{RB(theta|x) <= 1} ]:\")\n",
    "print(bias)\n",
    "\n"
   ]
  },
  {
   "cell_type": "code",
   "execution_count": 152,
   "metadata": {},
   "outputs": [
    {
     "name": "stdout",
     "output_type": "stream",
     "text": [
      "Bias in favor of the hypothesis:\n"
     ]
    },
    {
     "data": {
      "image/png": "[encoded data removed]",
      "text/plain": [
       "<Figure size 640x480 with 1 Axes>"
      ]
     },
     "metadata": {},
     "output_type": "display_data"
    }
   ],
   "source": [
    "import matplotlib.pyplot as plt\n",
    "# Example parameters\n",
    "hypothesis = 1.0        # Known theta\n",
    "mu_0 = 0.0         # Prior mean\n",
    "tau_0 = 1.0        # Prior standard deviation\n",
    "sigma = np.linspace(1, 10, 100)      # Likelihood standard deviation\n",
    "n = 5        # Sample size\n",
    "delta = 0.05     # Shift from the hypothesis\n",
    "\n",
    "print(\"Bias in favor of the hypothesis:\")\n",
    "plt.plot(sigma,[theoretical_hypothesis_bias_against(sigma[i], n, hypothesis, delta) for i in range(100)])\n",
    "plt.title(f\"Theoretical Hypothesis: bias in favor n=5\")\n",
    "plt.xlabel('σ values')\n",
    "plt.ylabel('Bias in favor')\n",
    "plt.show()"
   ]
  },
  {
   "cell_type": "markdown",
   "metadata": {},
   "source": [
    "## Hypothesis Bias In Favor"
   ]
  },
  {
   "cell_type": "code",
   "execution_count": 153,
   "metadata": {},
   "outputs": [],
   "source": [
    "def theoretical_hypothesis_bias_in_favor(sigma, n, hypothesis, delta, mu_0 = 0, sigma_0 = 1):\n",
    "    \"\"\"\n",
    "    Compute the bias in favor of the hypothesis theta.\n",
    "\n",
    "    Parameters:\n",
    "    mu_0 (float): Prior mean\n",
    "    tau_0 (float): Prior standard deviation\n",
    "    sigma (float): Known standard deviation of the data\n",
    "    n (int): Sample size\n",
    "    theta (float): Hypothesized mean\n",
    "    delta (float): The specified shift from theta\n",
    "\n",
    "    Returns:\n",
    "    float: The bias in favor\n",
    "    \"\"\"\n",
    "    # Step 1: Solve the inequality for \"in favor\" bias\n",
    "    intervals = solve_rb_inequality(hypothesis, mu_0, sigma_0, sigma, n, bias=\"in favor\")\n",
    "    \n",
    "    # Check if intervals are empty\n",
    "    if not intervals:\n",
    "        bias_in_favor = 0.0\n",
    "    else:\n",
    "        # Step 2: Compute expectations for theta + delta and theta - delta\n",
    "        expectation_plus = compute_expectation(hypothesis, sigma, n, intervals, delta=delta)\n",
    "        expectation_minus = compute_expectation(hypothesis, sigma, n, intervals, delta=-delta)\n",
    "\n",
    "        # Step 3: Calculate the bias in favor\n",
    "        bias_in_favor = max(expectation_plus, expectation_minus)\n",
    "    \n",
    "    return bias_in_favor\n"
   ]
  },
  {
   "cell_type": "markdown",
   "metadata": {},
   "source": [
    "### Example"
   ]
  },
  {
   "cell_type": "code",
   "execution_count": 22,
   "metadata": {},
   "outputs": [
    {
     "name": "stdout",
     "output_type": "stream",
     "text": [
      "Bias in favor of the hypothesis:\n"
     ]
    },
    {
     "data": {
      "image/png": "[encoded data removed]",
      "text/plain": [
       "<Figure size 640x480 with 1 Axes>"
      ]
     },
     "metadata": {},
     "output_type": "display_data"
    }
   ],
   "source": [
    "import matplotlib.pyplot as plt\n",
    "# Example parameters\n",
    "hypothesis = 1.0        # Known theta\n",
    "mu_0 = 0.0         # Prior mean\n",
    "sigma_0 = 1.0        # Prior standard deviation\n",
    "sigma = np.linspace(1, 10, 100)      # Likelihood standard deviation\n",
    "n = 5        # Sample size\n",
    "delta = 0.05     # Shift from the hypothesis\n",
    "\n",
    "print(\"Bias in favor of the hypothesis:\")\n",
    "plt.plot(sigma,[theoretical_hypothesis_bias_in_favor(sigma[i], n, hypothesis, delta) for i in range(100)])\n",
    "plt.title(f\"Theoretical Hypothesis: bias in favor n=5\")\n",
    "plt.xlabel('σ values')\n",
    "plt.ylabel('Bias in favor')\n",
    "plt.show()"
   ]
  },
  {
   "cell_type": "code",
   "execution_count": 155,
   "metadata": {},
   "outputs": [
    {
     "data": {
      "text/plain": [
       "[0.5163942450746577,\n",
       " 0.1806886116443643,\n",
       " 0.053833329377671366,\n",
       " 0.014343359034066087]"
      ]
     },
     "execution_count": 155,
     "metadata": {},
     "output_type": "execute_result"
    }
   ],
   "source": [
    "n = [5,10,15,20] \n",
    "sigma = 1\n",
    "hypothesis = 1\n",
    "delta = 1 \n",
    "[theoretical_hypothesis_bias_in_favor(sigma, n[i], hypothesis, delta) for i in range(4)]"
   ]
  },
  {
   "cell_type": "markdown",
   "metadata": {},
   "source": [
    "# Theoretical Estimation Bias Calculations"
   ]
  },
  {
   "cell_type": "markdown",
   "metadata": {},
   "source": [
    "## Estimation Bias Against"
   ]
  },
  {
   "cell_type": "code",
   "execution_count": 156,
   "metadata": {},
   "outputs": [],
   "source": [
    "import numpy as np\n",
    "\n",
    "def theoretical_estimation_bias_against(mu_0, tau_0, sigma, n, num_samples=10000):\n",
    "    \"\"\"\n",
    "    Estimate the bias against in estimation using Monte Carlo simulation.\n",
    "    \n",
    "    Parameters:\n",
    "    mu_0 (float): Prior mean\n",
    "    tau_0 (float): Prior standard deviation\n",
    "    sigma (float): Known standard deviation of the data\n",
    "    n (int): Sample size\n",
    "    num_samples (int): Number of samples for Monte Carlo simulation\n",
    "    \n",
    "    Returns:\n",
    "    float: Estimated bias against\n",
    "    \"\"\"\n",
    "    # Step 1: Sample theta from the prior\n",
    "    theta_samples = np.random.normal(mu_0, tau_0, num_samples)\n",
    "    \n",
    "    # Step 2: For each theta, sample x̄ from p(x̄ | theta)\n",
    "    se = sigma / np.sqrt(n)\n",
    "    xbar_samples = np.random.normal(theta_samples, se)\n",
    "    \n",
    "    # Step 3: Compute posterior parameters for each sample\n",
    "    tau_n_sq_inv = (1 / tau_0**2) + (n / sigma**2)\n",
    "    tau_n_sq = 1 / tau_n_sq_inv\n",
    "    mu_n = tau_n_sq * ((mu_0 / tau_0**2) + (n * xbar_samples / sigma**2))\n",
    "    \n",
    "    # Step 4: Compute RB(theta | x̄) for each sample\n",
    "    ln_rb = 0.5 * np.log(tau_0**2 / tau_n_sq) \\\n",
    "            - ((theta_samples - mu_n)**2) / (2 * tau_n_sq) \\\n",
    "            + ((theta_samples - mu_0)**2) / (2 * tau_0**2)\n",
    "    \n",
    "    # Step 5: Estimate the bias against\n",
    "    bias_against = np.mean(ln_rb <= 0)\n",
    "    \n",
    "    return bias_against\n"
   ]
  },
  {
   "cell_type": "code",
   "execution_count": 158,
   "metadata": {},
   "outputs": [
    {
     "name": "stdout",
     "output_type": "stream",
     "text": [
      "Estimated bias against in estimation: 0.031265\n"
     ]
    }
   ],
   "source": [
    "# Example parameters\n",
    "mu_0 = 0.0         # Prior mean\n",
    "tau_0 = 1.0        # Prior standard deviation\n",
    "sigma = 1.0        # Known standard deviation\n",
    "n = 50            # Sample size\n",
    "\n",
    "# Estimate the bias against\n",
    "bias_against = theoretical_estimation_bias_against(mu_0, tau_0, sigma, n, num_samples=1000000)\n",
    "print(f\"Estimated bias against in estimation: {bias_against}\")\n"
   ]
  },
  {
   "cell_type": "markdown",
   "metadata": {},
   "source": [
    "## Estimation Bias In Favor"
   ]
  },
  {
   "cell_type": "code",
   "execution_count": 62,
   "metadata": {},
   "outputs": [],
   "source": [
    "import numpy as np\n",
    "from scipy.stats import norm\n",
    "\n",
    "def theoretical_estimation_bias_in_favor(\n",
    "    mu_0,       # Prior mean\n",
    "    tau_0,      # Prior standard deviation\n",
    "    sigma,      # Known standard deviation of the data\n",
    "    n,          # Sample size\n",
    "    delta,      # Specified distance delta\n",
    "    num_theta0_samples=1000,  # Number of theta_0 samples\n",
    "    num_xbar_samples=1000     # Number of x̄ samples per θ and θ₀\n",
    "):\n",
    "    \"\"\"\n",
    "    Estimate the bias in favor in estimation using Monte Carlo simulation,\n",
    "    including delta and supremum over theta at distance delta from theta_0.\n",
    "    \n",
    "    Parameters:\n",
    "    mu_0 (float): Prior mean\n",
    "    tau_0 (float): Prior standard deviation\n",
    "    sigma (float): Known standard deviation of the data\n",
    "    n (int): Sample size\n",
    "    delta (float): Specified distance delta\n",
    "    num_theta0_samples (int): Number of theta_0 samples\n",
    "    num_xbar_samples (int): Number of x̄ samples per θ and θ₀\n",
    "    \n",
    "    Returns:\n",
    "    float: Estimated bias in favor\n",
    "    \"\"\"\n",
    "    # Step 1: Sample theta_0 from the prior\n",
    "    theta0_samples = np.random.normal(mu_0, tau_0, num_theta0_samples)\n",
    "    \n",
    "    # Initialize an array to store the supremum probabilities for each theta_0\n",
    "    supremum_probs = np.zeros(num_theta0_samples)\n",
    "    \n",
    "    # Precompute posterior variance (tau_n^2)\n",
    "    tau_n_sq_inv = (1 / tau_0**2) + (n / sigma**2)\n",
    "    tau_n_sq = 1 / tau_n_sq_inv\n",
    "    \n",
    "    # Standard error of the sample mean\n",
    "    se = sigma / np.sqrt(n)\n",
    "    \n",
    "    for i, theta0 in enumerate(theta0_samples):\n",
    "        # Generate θ values at a distance δ from θ₀\n",
    "        theta_values = [theta0 - delta, theta0 + delta]\n",
    "        \n",
    "        max_prob = 0  # To store the maximum probability over θ\n",
    "        \n",
    "        for theta in theta_values:\n",
    "            # Step 2: For each θ, simulate x̄ from p(x̄ | θ)\n",
    "            xbar_samples = np.random.normal(theta, se, num_xbar_samples)\n",
    "            \n",
    "            # Step 3: Compute posterior mean μ_n for each x̄\n",
    "            mu_n = tau_n_sq * ((mu_0 / tau_0**2) + (n * xbar_samples / sigma**2))\n",
    "            \n",
    "            # Step 4: Compute ln RB(θ₀ | x̄) for each x̄\n",
    "            ln_rb = 0.5 * np.log(tau_0**2 / tau_n_sq) \\\n",
    "                    - ((theta0 - mu_n)**2) / (2 * tau_n_sq) \\\n",
    "                    + ((theta0 - mu_0)**2) / (2 * tau_0**2)\n",
    "            \n",
    "            # Step 5: Determine the proportion where ln RB(θ₀ | x̄) ≥ 0\n",
    "            prob_in_favor = np.mean(ln_rb >= 0)\n",
    "            \n",
    "            # Update the maximum probability\n",
    "            max_prob = max(max_prob, prob_in_favor)\n",
    "        \n",
    "        # Store the maximum probability for this θ₀\n",
    "        supremum_probs[i] = max_prob\n",
    "    \n",
    "    # Step 6: Compute the expected value over θ₀\n",
    "    bias_in_favor = np.mean(supremum_probs)\n",
    "    \n",
    "    return bias_in_favor\n"
   ]
  },
  {
   "cell_type": "code",
   "execution_count": 159,
   "metadata": {},
   "outputs": [
    {
     "name": "stdout",
     "output_type": "stream",
     "text": [
      "Bias In Favor (Estimation): 0.68069\n"
     ]
    }
   ],
   "source": [
    "# Parameters\n",
    "mu_0 = 0          # Prior mean\n",
    "tau_0 = 1         # Prior standard deviation\n",
    "sigma = 1         # Known standard deviation\n",
    "n = 10            # Sample size\n",
    "delta = 0.5       # Specified distance δ\n",
    "num_theta0_samples = 1000    # Number of θ₀ samples\n",
    "num_xbar_samples = 1000      # Number of x̄ samples per θ and θ₀\n",
    "\n",
    "# Calculate bias in favor\n",
    "bias_in_favor = theoretical_estimation_bias_in_favor(\n",
    "    mu_0, tau_0, sigma, n, delta, num_theta0_samples, num_xbar_samples\n",
    ")\n",
    "\n",
    "print(f\"Bias In Favor (Estimation): {bias_in_favor :.5f}\")\n"
   ]
  },
  {
   "cell_type": "code",
   "execution_count": 148,
   "metadata": {},
   "outputs": [
    {
     "data": {
      "image/png": "[encoded data removed]",
      "text/plain": [
       "<Figure size 640x480 with 1 Axes>"
      ]
     },
     "metadata": {},
     "output_type": "display_data"
    }
   ],
   "source": [
    "loops = 1000\n",
    "bias_in_favor = np.zeros(loops)\n",
    "for i in range(loops):\n",
    "    bias_in_favor[i] = theoretical_estimation_bias_in_favor(\n",
    "        mu_0, tau_0, sigma, n, delta, num_theta0_samples, num_xbar_samples\n",
    "    )\n",
    "plt.hist(bias_in_favor, bins=30, edgecolor='black')\n",
    "plt.show()"
   ]
  },
  {
   "cell_type": "code",
   "execution_count": 147,
   "metadata": {},
   "outputs": [
    {
     "name": "stdout",
     "output_type": "stream",
     "text": [
      "Mean bias in favor: 0.68899\n",
      "Standard deviation of bias in favor: 0.00412\n",
      "Samples = 1000\n"
     ]
    }
   ],
   "source": [
    "print(f\"Mean bias in favor: {np.mean(bias_in_favor) :.5f}\")\n",
    "print(f\"Standard deviation of bias in favor: {np.std(bias_in_favor) :.5f}\")\n",
    "print(f\"Samples = {loops}\")"
   ]
  }
 ],
 "metadata": {
  "kernelspec": {
   "display_name": "base",
   "language": "python",
   "name": "python3"
  },
  "language_info": {
   "codemirror_mode": {
    "name": "ipython",
    "version": 3
   },
   "file_extension": ".py",
   "mimetype": "text/x-python",
   "name": "python",
   "nbconvert_exporter": "python",
   "pygments_lexer": "ipython3",
   "version": "3.9.16"
  }
 },
 "nbformat": 4,
 "nbformat_minor": 2
}
